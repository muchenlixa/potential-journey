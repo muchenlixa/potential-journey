{
 "cells": [
  {
   "cell_type": "markdown",
   "metadata": {},
   "source": [
    "### Import packages"
   ]
  },
  {
   "cell_type": "code",
   "execution_count": 1,
   "metadata": {},
   "outputs": [],
   "source": [
    "import pandas as pd\n",
    "import pyarrow.csv as pv\n",
    "import pyarrow.parquet as pq\n",
    "\n",
    "import matplotlib.pyplot as plt\n",
    "import descartes\n",
    "import geopandas as gpd\n",
    "from shapely.geometry import Point, Polygon\n",
    "import lazypredict"
   ]
  },
  {
   "cell_type": "markdown",
   "metadata": {},
   "source": [
    "### Convert data to parquet"
   ]
  },
  {
   "cell_type": "code",
   "execution_count": null,
   "metadata": {},
   "outputs": [],
   "source": [
    "city_neighborhood = pv.read_csv('./data/City_of_Edmonton_-_Neighbourhoods_20240201.csv')\n",
    "city_property_info = pv.read_csv('./data/Property_Information__Current_Calendar_Year__20240201.csv')\n",
    "city_property_assessment = pv.read_csv('./data/Property_Assessment_Data__Current_Calendar_Year__20240201.csv')\n",
    "\n",
    "pq.write_table(city_neighborhood,'./data/city_neighborhood.parquet')\n",
    "pq.write_table(city_property_info,'./data/city_property_info.parquet')\n",
    "pq.write_table(city_property_assessment,'./data/city_property_assessment.parquet')"
   ]
  },
  {
   "cell_type": "markdown",
   "metadata": {},
   "source": [
    "### Read data"
   ]
  },
  {
   "cell_type": "code",
   "execution_count": 2,
   "metadata": {},
   "outputs": [],
   "source": [
    "neighbor = pd.read_parquet('./data/city_neighborhood.parquet')\n",
    "property_info = pd.read_parquet('./data/city_property_info.parquet')\n",
    "assessment = pd.read_parquet('./data/city_property_assessment.parquet')"
   ]
  },
  {
   "cell_type": "code",
   "execution_count": null,
   "metadata": {},
   "outputs": [],
   "source": [
    "neighbor.head()"
   ]
  },
  {
   "cell_type": "code",
   "execution_count": null,
   "metadata": {},
   "outputs": [],
   "source": [
    "property_info.head()"
   ]
  },
  {
   "cell_type": "code",
   "execution_count": null,
   "metadata": {},
   "outputs": [],
   "source": [
    "assessment.head()"
   ]
  },
  {
   "cell_type": "code",
   "execution_count": null,
   "metadata": {},
   "outputs": [],
   "source": [
    "property_info.shape"
   ]
  },
  {
   "cell_type": "code",
   "execution_count": null,
   "metadata": {},
   "outputs": [],
   "source": [
    "assessment.shape"
   ]
  },
  {
   "cell_type": "markdown",
   "metadata": {},
   "source": [
    "### Join and Merge Data"
   ]
  },
  {
   "cell_type": "code",
   "execution_count": 3,
   "metadata": {},
   "outputs": [],
   "source": [
    "property_desc = property_info.merge(assessment[['Account Number','Garage','Assessed Value']],how='inner',on='Account Number')"
   ]
  },
  {
   "cell_type": "code",
   "execution_count": 4,
   "metadata": {},
   "outputs": [
    {
     "data": {
      "text/html": [
       "<div>\n",
       "<style scoped>\n",
       "    .dataframe tbody tr th:only-of-type {\n",
       "        vertical-align: middle;\n",
       "    }\n",
       "\n",
       "    .dataframe tbody tr th {\n",
       "        vertical-align: top;\n",
       "    }\n",
       "\n",
       "    .dataframe thead th {\n",
       "        text-align: right;\n",
       "    }\n",
       "</style>\n",
       "<table border=\"1\" class=\"dataframe\">\n",
       "  <thead>\n",
       "    <tr style=\"text-align: right;\">\n",
       "      <th></th>\n",
       "      <th>Account Number</th>\n",
       "      <th>Suite</th>\n",
       "      <th>House Number</th>\n",
       "      <th>Street Name</th>\n",
       "      <th>legal_description</th>\n",
       "      <th>zoning</th>\n",
       "      <th>lot_size</th>\n",
       "      <th>Total Gross Area</th>\n",
       "      <th>year_built</th>\n",
       "      <th>garage</th>\n",
       "      <th>Neighbourhood ID</th>\n",
       "      <th>Neighbourhood</th>\n",
       "      <th>Ward</th>\n",
       "      <th>Latitude</th>\n",
       "      <th>Longitude</th>\n",
       "      <th>Point Location</th>\n",
       "      <th>Garage</th>\n",
       "      <th>Assessed Value</th>\n",
       "    </tr>\n",
       "  </thead>\n",
       "  <tbody>\n",
       "    <tr>\n",
       "      <th>0</th>\n",
       "      <td>3794377</td>\n",
       "      <td></td>\n",
       "      <td>NaN</td>\n",
       "      <td></td>\n",
       "      <td></td>\n",
       "      <td>A</td>\n",
       "      <td>NaN</td>\n",
       "      <td></td>\n",
       "      <td>NaN</td>\n",
       "      <td>False</td>\n",
       "      <td>6620.0</td>\n",
       "      <td>RIVER VALLEY GOLD BAR</td>\n",
       "      <td>Métis Ward</td>\n",
       "      <td>53.541953</td>\n",
       "      <td>-113.408346</td>\n",
       "      <td>POINT (-113.40834603699963 53.541952933594935)</td>\n",
       "      <td>N</td>\n",
       "      <td>29500</td>\n",
       "    </tr>\n",
       "    <tr>\n",
       "      <th>1</th>\n",
       "      <td>9018060</td>\n",
       "      <td></td>\n",
       "      <td>9835.0</td>\n",
       "      <td>71 STREET NW</td>\n",
       "      <td></td>\n",
       "      <td>AP</td>\n",
       "      <td>NaN</td>\n",
       "      <td></td>\n",
       "      <td>NaN</td>\n",
       "      <td>False</td>\n",
       "      <td>6730.0</td>\n",
       "      <td>TERRACE HEIGHTS</td>\n",
       "      <td>Métis Ward</td>\n",
       "      <td>53.539089</td>\n",
       "      <td>-113.436267</td>\n",
       "      <td>POINT (-113.43626681866041 53.539088745077535)</td>\n",
       "      <td>N</td>\n",
       "      <td>10500</td>\n",
       "    </tr>\n",
       "    <tr>\n",
       "      <th>2</th>\n",
       "      <td>9964116</td>\n",
       "      <td></td>\n",
       "      <td>NaN</td>\n",
       "      <td></td>\n",
       "      <td></td>\n",
       "      <td>RF1</td>\n",
       "      <td>NaN</td>\n",
       "      <td>0 M2 / 0 FT2</td>\n",
       "      <td>NaN</td>\n",
       "      <td>False</td>\n",
       "      <td>6310.0</td>\n",
       "      <td>HOLYROOD</td>\n",
       "      <td>Métis Ward</td>\n",
       "      <td>53.532271</td>\n",
       "      <td>-113.447592</td>\n",
       "      <td>POINT (-113.44759231831523 53.53227088653109)</td>\n",
       "      <td>N</td>\n",
       "      <td>10500</td>\n",
       "    </tr>\n",
       "    <tr>\n",
       "      <th>3</th>\n",
       "      <td>9988380</td>\n",
       "      <td></td>\n",
       "      <td>NaN</td>\n",
       "      <td></td>\n",
       "      <td>Plan: 2629HW</td>\n",
       "      <td>MU</td>\n",
       "      <td>304.0</td>\n",
       "      <td></td>\n",
       "      <td>1991.0</td>\n",
       "      <td>False</td>\n",
       "      <td>2550.0</td>\n",
       "      <td>MONTROSE</td>\n",
       "      <td>Métis Ward</td>\n",
       "      <td>53.570513</td>\n",
       "      <td>-113.451745</td>\n",
       "      <td>POINT (-113.45174452375724 53.570513479343425)</td>\n",
       "      <td>N</td>\n",
       "      <td>122500</td>\n",
       "    </tr>\n",
       "    <tr>\n",
       "      <th>4</th>\n",
       "      <td>9992244</td>\n",
       "      <td></td>\n",
       "      <td>NaN</td>\n",
       "      <td></td>\n",
       "      <td></td>\n",
       "      <td>RF1</td>\n",
       "      <td>NaN</td>\n",
       "      <td>0 M2 / 0 FT2</td>\n",
       "      <td>NaN</td>\n",
       "      <td>False</td>\n",
       "      <td>5210.0</td>\n",
       "      <td>GRANDVIEW HEIGHTS</td>\n",
       "      <td>papastew Ward</td>\n",
       "      <td>53.500264</td>\n",
       "      <td>-113.549373</td>\n",
       "      <td>POINT (-113.54937250154912 53.500263788056216)</td>\n",
       "      <td>N</td>\n",
       "      <td>8000</td>\n",
       "    </tr>\n",
       "  </tbody>\n",
       "</table>\n",
       "</div>"
      ],
      "text/plain": [
       "   Account Number Suite  House Number   Street Name legal_description zoning  \\\n",
       "0         3794377                 NaN                                      A   \n",
       "1         9018060              9835.0  71 STREET NW                       AP   \n",
       "2         9964116                 NaN                                    RF1   \n",
       "3         9988380                 NaN                    Plan: 2629HW     MU   \n",
       "4         9992244                 NaN                                    RF1   \n",
       "\n",
       "   lot_size Total Gross Area  year_built  garage  Neighbourhood ID  \\\n",
       "0       NaN                          NaN   False            6620.0   \n",
       "1       NaN                          NaN   False            6730.0   \n",
       "2       NaN     0 M2 / 0 FT2         NaN   False            6310.0   \n",
       "3     304.0                       1991.0   False            2550.0   \n",
       "4       NaN     0 M2 / 0 FT2         NaN   False            5210.0   \n",
       "\n",
       "           Neighbourhood           Ward   Latitude   Longitude  \\\n",
       "0  RIVER VALLEY GOLD BAR     Métis Ward  53.541953 -113.408346   \n",
       "1        TERRACE HEIGHTS     Métis Ward  53.539089 -113.436267   \n",
       "2               HOLYROOD     Métis Ward  53.532271 -113.447592   \n",
       "3               MONTROSE     Métis Ward  53.570513 -113.451745   \n",
       "4      GRANDVIEW HEIGHTS  papastew Ward  53.500264 -113.549373   \n",
       "\n",
       "                                   Point Location Garage  Assessed Value  \n",
       "0  POINT (-113.40834603699963 53.541952933594935)      N           29500  \n",
       "1  POINT (-113.43626681866041 53.539088745077535)      N           10500  \n",
       "2   POINT (-113.44759231831523 53.53227088653109)      N           10500  \n",
       "3  POINT (-113.45174452375724 53.570513479343425)      N          122500  \n",
       "4  POINT (-113.54937250154912 53.500263788056216)      N            8000  "
      ]
     },
     "execution_count": 4,
     "metadata": {},
     "output_type": "execute_result"
    }
   ],
   "source": [
    "property_desc.head()"
   ]
  },
  {
   "cell_type": "code",
   "execution_count": null,
   "metadata": {},
   "outputs": [],
   "source": [
    "city_map = gpd.read_file('./data/city_map.shp')\n",
    "\n",
    "fig,ax = plt.subplots(figsize=(15,15))\n",
    "city_map.plot(ax=ax)"
   ]
  },
  {
   "cell_type": "code",
   "execution_count": 5,
   "metadata": {},
   "outputs": [],
   "source": [
    "from lazypredict.Supervised import LazyClassifier\n",
    "from sklearn.datasets import load_breast_cancer\n",
    "from sklearn.model_selection import train_test_split"
   ]
  },
  {
   "cell_type": "code",
   "execution_count": null,
   "metadata": {},
   "outputs": [],
   "source": []
  }
 ],
 "metadata": {
  "kernelspec": {
   "display_name": "Python 3",
   "language": "python",
   "name": "python3"
  },
  "language_info": {
   "codemirror_mode": {
    "name": "ipython",
    "version": 3
   },
   "file_extension": ".py",
   "mimetype": "text/x-python",
   "name": "python",
   "nbconvert_exporter": "python",
   "pygments_lexer": "ipython3",
   "version": "3.11.5"
  }
 },
 "nbformat": 4,
 "nbformat_minor": 2
}
