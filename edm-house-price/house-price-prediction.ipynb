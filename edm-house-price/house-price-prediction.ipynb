{
 "cells": [
  {
   "cell_type": "markdown",
   "metadata": {},
   "source": [
    "### Import packages"
   ]
  },
  {
   "cell_type": "code",
   "execution_count": 1,
   "metadata": {},
   "outputs": [],
   "source": [
    "import pandas as pd\n",
    "import pyarrow.csv as pv\n",
    "import pyarrow.parquet as pq"
   ]
  },
  {
   "cell_type": "markdown",
   "metadata": {},
   "source": [
    "### Convert data to parquet"
   ]
  },
  {
   "cell_type": "code",
   "execution_count": 6,
   "metadata": {},
   "outputs": [],
   "source": [
    "city_neighborhood = pv.read_csv('./data/City_of_Edmonton_-_Neighbourhoods_20240201.csv')\n",
    "city_property_info = pv.read_csv('./data/Property_Information__Current_Calendar_Year__20240201.csv')\n",
    "city_property_assessment = pv.read_csv('./data/Property_Assessment_Data__Current_Calendar_Year__20240201.csv')\n",
    "\n",
    "pq.write_table(city_neighborhood,'./data/city_neighborhood.parquet')\n",
    "pq.write_table(city_property_info,'./data/city_property_info.parquet')\n",
    "pq.write_table(city_property_assessment,'./data/city_property_assessment.parquet')"
   ]
  }
 ],
 "metadata": {
  "kernelspec": {
   "display_name": "Python 3",
   "language": "python",
   "name": "python3"
  },
  "language_info": {
   "codemirror_mode": {
    "name": "ipython",
    "version": 3
   },
   "file_extension": ".py",
   "mimetype": "text/x-python",
   "name": "python",
   "nbconvert_exporter": "python",
   "pygments_lexer": "ipython3",
   "version": "3.11.5"
  }
 },
 "nbformat": 4,
 "nbformat_minor": 2
}
